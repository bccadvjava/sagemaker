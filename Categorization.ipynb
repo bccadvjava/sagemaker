
<!-- saved from url=(0092)https://moodle.bergen.edu/pluginfile.php/2865503/mod_resource/content/1/Categorization.ipynb -->
<html><head><meta http-equiv="Content-Type" content="text/html; charset=UTF-8"></head><body>{
 "cells": [
  {
   "cell_type": "markdown",
   "metadata": {},
   "source": [
    "# classification"
   ]
  },
  {
   "cell_type": "markdown",
   "metadata": {},
   "source": [
    "#### load data, categorize the overall column in sentiment"
   ]
  },
  {
   "cell_type": "code",
   "execution_count": 2,
   "metadata": {
    "scrolled": true
   },
   "outputs": [
    {
     "name": "stdout",
     "output_type": "stream",
     "text": [
      "sentiment\n",
      "NEGATIVE     62\n",
      "NEUTRAL     103\n",
      "POSITIVE    835\n",
      "Name: asin, dtype: int64\n"
     ]
    },
    {
     "data": {
      "text/html": [
       "<div>\n",
       "<style scoped="">\n",
       "    .dataframe tbody tr th:only-of-type {\n",
       "        vertical-align: middle;\n",
       "    }\n",
       "\n",
       "    .dataframe tbody tr th {\n",
       "        vertical-align: top;\n",
       "    }\n",
       "\n",
       "    .dataframe thead th {\n",
       "        text-align: right;\n",
       "    }\n",
       "</style>\n",
       "\n",
       "  \n",
       "    \n",
       "      \n",
       "      \n",
       "      \n",
       "      \n",
       "      \n",
       "      \n",
       "      \n",
       "      \n",
       "      \n",
       "      \n",
       "      \n",
       "    \n",
       "  \n",
       "  \n",
       "    \n",
       "      \n",
       "      \n",
       "      \n",
       "      \n",
       "      \n",
       "      \n",
       "      \n",
       "      \n",
       "      \n",
       "      \n",
       "      \n",
       "    \n",
       "    \n",
       "      \n",
       "      \n",
       "      \n",
       "      \n",
       "      \n",
       "      \n",
       "      \n",
       "      \n",
       "      \n",
       "      \n",
       "      \n",
       "    \n",
       "    \n",
       "      \n",
       "      \n",
       "      \n",
       "      \n",
       "      \n",
       "      \n",
       "      \n",
       "      \n",
       "      \n",
       "      \n",
       "      \n",
       "    \n",
       "    \n",
       "      \n",
       "      \n",
       "      \n",
       "      \n",
       "      \n",
       "      \n",
       "      \n",
       "      \n",
       "      \n",
       "      \n",
       "      \n",
       "    \n",
       "    \n",
       "      \n",
       "      \n",
       "      \n",
       "      \n",
       "      \n",
       "      \n",
       "      \n",
       "      \n",
       "      \n",
       "      \n",
       "      \n",
       "    \n",
       "    \n",
       "      \n",
       "      \n",
       "      \n",
       "      \n",
       "      \n",
       "      \n",
       "      \n",
       "      \n",
       "      \n",
       "      \n",
       "      \n",
       "    \n",
       "    \n",
       "      \n",
       "      \n",
       "      \n",
       "      \n",
       "      \n",
       "      \n",
       "      \n",
       "      \n",
       "      \n",
       "      \n",
       "      \n",
       "    \n",
       "    \n",
       "      \n",
       "      \n",
       "      \n",
       "      \n",
       "      \n",
       "      \n",
       "      \n",
       "      \n",
       "      \n",
       "      \n",
       "      \n",
       "    \n",
       "    \n",
       "      \n",
       "      \n",
       "      \n",
       "      \n",
       "      \n",
       "      \n",
       "      \n",
       "      \n",
       "      \n",
       "      \n",
       "      \n",
       "    \n",
       "    \n",
       "      \n",
       "      \n",
       "      \n",
       "      \n",
       "      \n",
       "      \n",
       "      \n",
       "      \n",
       "      \n",
       "      \n",
       "      \n",
       "    \n",
       "    \n",
       "      \n",
       "      \n",
       "      \n",
       "      \n",
       "      \n",
       "      \n",
       "      \n",
       "      \n",
       "      \n",
       "      \n",
       "      \n",
       "    \n",
       "  \n",
       "<table border="\&quot;1\&quot;" class="\&quot;dataframe\&quot;"><thead><tr style="\&quot;text-align:" right;\"=""><th></th><th>reviewerID</th><th>asin</th><th>reviewerName</th><th>helpful</th><th>reviewText</th><th>overall</th><th>summary</th><th>unixReviewTime</th><th>reviewTime</th><th>sentiment</th></tr></thead><tbody><tr><td>0</td><td>A1E5ZR1Z4OQJG</td><td>1495329321</td><td>Pure Jonel \"Pure Jonel\"</td><td>[0, 0]</td><td>Da Silva takes the divine by storm with this u...</td><td>4</td><td>An amazing first novel</td><td>1396137600</td><td>03 30, 2014</td><td>POSITIVE</td></tr><tr><td>1</td><td>A30PZPI6FPH0A7</td><td>0399157565</td><td>Jackmollie</td><td>[0, 0]</td><td>For me personally it's the most disappointing ...</td><td>2</td><td>disappointed</td><td>1400112000</td><td>05 15, 2014</td><td>NEGATIVE</td></tr><tr><td>2</td><td>A1GQ2UI5BKCCRD</td><td>0984528105</td><td>Gail Hodges</td><td>[0, 0]</td><td>Very simple book, but leaves you feeling good....</td><td>4</td><td>Good book</td><td>1401235200</td><td>05 28, 2014</td><td>POSITIVE</td></tr><tr><td>3</td><td>A2DF4LQQI6KSQ2</td><td>0804139024</td><td>Olga</td><td>[0, 0]</td><td>I read a library copy of this exceptionally we...</td><td>5</td><td>Science Fiction at its best!</td><td>1396483200</td><td>04 3, 2014</td><td>POSITIVE</td></tr><tr><td>4</td><td>A1UAMAWY966P2</td><td>0765317583</td><td>Nadyne M Ichimura</td><td>[0, 0]</td><td>With the government knowing this could happen ...</td><td>5</td><td>Excellent story</td><td>1397001600</td><td>04 9, 2014</td><td>POSITIVE</td></tr><tr><td>...</td><td>...</td><td>...</td><td>...</td><td>...</td><td>...</td><td>...</td><td>...</td><td>...</td><td>...</td><td>...</td></tr><tr><td>995</td><td>A1Q3P5W409XK8I</td><td>0385346824</td><td>Wright</td><td>[0, 0]</td><td>I thoroughly enjoyed this book. I've read the ...</td><td>5</td><td>A very fun read.</td><td>1404691200</td><td>07 7, 2014</td><td>POSITIVE</td></tr><tr><td>996</td><td>AOFXJE92VZHJA</td><td>B00J9312KQ</td><td>LaVonMoffett \"heavy reader\"</td><td>[0, 0]</td><td>I was impressed with not only the characters o...</td><td>5</td><td>Loved the story</td><td>1400371200</td><td>05 18, 2014</td><td>POSITIVE</td></tr><tr><td>997</td><td>A1OH43Q6Q05ULQ</td><td>0553808036</td><td>Jaci</td><td>[0, 0]</td><td>I like the characters.  I had read the short s...</td><td>5</td><td>Angels among us?</td><td>1396915200</td><td>04 8, 2014</td><td>POSITIVE</td></tr><tr><td>998</td><td>A34QXHSIS1IFNS</td><td>B00BPTTFOW</td><td>H.Smith</td><td>[8, 9]</td><td>She got way she wanted,but can she pick the ri...</td><td>5</td><td>Which one is the real one</td><td>1401408000</td><td>05 30, 2014</td><td>POSITIVE</td></tr><tr><td>999</td><td>A1L1PDGJNOKGA</td><td>1490321101</td><td>L Doll \"L\"</td><td>[0, 0]</td><td>All these twists, turns and discoveries. There...</td><td>5</td><td>YO!!!! Craziest Installment Ever!</td><td>1395187200</td><td>03 19, 2014</td><td>POSITIVE</td></tr></tbody></table>\n",
       "<p>1000 rows × 10 columns</p>\n",
       "</div>"
      ],
      "text/plain": [
       "         reviewerID        asin                 reviewerName helpful  \\\n",
       "0     A1E5ZR1Z4OQJG  1495329321      Pure Jonel \"Pure Jonel\"  [0, 0]   \n",
       "1    A30PZPI6FPH0A7  0399157565                   Jackmollie  [0, 0]   \n",
       "2    A1GQ2UI5BKCCRD  0984528105                  Gail Hodges  [0, 0]   \n",
       "3    A2DF4LQQI6KSQ2  0804139024                         Olga  [0, 0]   \n",
       "4     A1UAMAWY966P2  0765317583            Nadyne M Ichimura  [0, 0]   \n",
       "..              ...         ...                          ...     ...   \n",
       "995  A1Q3P5W409XK8I  0385346824                       Wright  [0, 0]   \n",
       "996   AOFXJE92VZHJA  B00J9312KQ  LaVonMoffett \"heavy reader\"  [0, 0]   \n",
       "997  A1OH43Q6Q05ULQ  0553808036                         Jaci  [0, 0]   \n",
       "998  A34QXHSIS1IFNS  B00BPTTFOW                      H.Smith  [8, 9]   \n",
       "999   A1L1PDGJNOKGA  1490321101                   L Doll \"L\"  [0, 0]   \n",
       "\n",
       "                                            reviewText  overall  \\\n",
       "0    Da Silva takes the divine by storm with this u...        4   \n",
       "1    For me personally it's the most disappointing ...        2   \n",
       "2    Very simple book, but leaves you feeling good....        4   \n",
       "3    I read a library copy of this exceptionally we...        5   \n",
       "4    With the government knowing this could happen ...        5   \n",
       "..                                                 ...      ...   \n",
       "995  I thoroughly enjoyed this book. I've read the ...        5   \n",
       "996  I was impressed with not only the characters o...        5   \n",
       "997  I like the characters.  I had read the short s...        5   \n",
       "998  She got way she wanted,but can she pick the ri...        5   \n",
       "999  All these twists, turns and discoveries. There...        5   \n",
       "\n",
       "                               summary  unixReviewTime   reviewTime sentiment  \n",
       "0               An amazing first novel      1396137600  03 30, 2014  POSITIVE  \n",
       "1                         disappointed      1400112000  05 15, 2014  NEGATIVE  \n",
       "2                            Good book      1401235200  05 28, 2014  POSITIVE  \n",
       "3         Science Fiction at its best!      1396483200   04 3, 2014  POSITIVE  \n",
       "4                      Excellent story      1397001600   04 9, 2014  POSITIVE  \n",
       "..                                 ...             ...          ...       ...  \n",
       "995                   A very fun read.      1404691200   07 7, 2014  POSITIVE  \n",
       "996                    Loved the story      1400371200  05 18, 2014  POSITIVE  \n",
       "997                   Angels among us?      1396915200   04 8, 2014  POSITIVE  \n",
       "998          Which one is the real one      1401408000  05 30, 2014  POSITIVE  \n",
       "999  YO!!!! Craziest Installment Ever!      1395187200  03 19, 2014  POSITIVE  \n",
       "\n",
       "[1000 rows x 10 columns]"
      ]
     },
     "execution_count": 2,
     "metadata": {},
     "output_type": "execute_result"
    }
   ],
   "source": [
    "import pandas as pd\n",
    "df = pd.read_json('Books_small.json', lines=True)\n",
    "df['sentiment'] = 'NEGATIVE'\n",
    "df.loc[(df.overall == 3), ['sentiment']] = 'NEUTRAL'\n",
    "df.loc[(df.overall &gt;  3), ['sentiment']] = 'POSITIVE'\n",
    "# find the number of positive and negative reviews\n",
    "print(df.groupby(['sentiment']).count()['asin'])\n",
    "df"
   ]
  },
  {
   "cell_type": "markdown",
   "metadata": {},
   "source": [
    "# split dataframe into training and test data"
   ]
  },
  {
   "cell_type": "code",
   "execution_count": 2,
   "metadata": {},
   "outputs": [
    {
     "data": {
      "text/html": [
       "<div>\n",
       "<style scoped="">\n",
       "    .dataframe tbody tr th:only-of-type {\n",
       "        vertical-align: middle;\n",
       "    }\n",
       "\n",
       "    .dataframe tbody tr th {\n",
       "        vertical-align: top;\n",
       "    }\n",
       "\n",
       "    .dataframe thead th {\n",
       "        text-align: right;\n",
       "    }\n",
       "</style>\n",
       "\n",
       "  \n",
       "    \n",
       "      \n",
       "      \n",
       "      \n",
       "      \n",
       "      \n",
       "      \n",
       "      \n",
       "      \n",
       "      \n",
       "      \n",
       "      \n",
       "    \n",
       "  \n",
       "  \n",
       "    \n",
       "      \n",
       "      \n",
       "      \n",
       "      \n",
       "      \n",
       "      \n",
       "      \n",
       "      \n",
       "      \n",
       "      \n",
       "      \n",
       "    \n",
       "    \n",
       "      \n",
       "      \n",
       "      \n",
       "      \n",
       "      \n",
       "      \n",
       "      \n",
       "      \n",
       "      \n",
       "      \n",
       "      \n",
       "    \n",
       "    \n",
       "      \n",
       "      \n",
       "      \n",
       "      \n",
       "      \n",
       "      \n",
       "      \n",
       "      \n",
       "      \n",
       "      \n",
       "      \n",
       "    \n",
       "    \n",
       "      \n",
       "      \n",
       "      \n",
       "      \n",
       "      \n",
       "      \n",
       "      \n",
       "      \n",
       "      \n",
       "      \n",
       "      \n",
       "    \n",
       "    \n",
       "      \n",
       "      \n",
       "      \n",
       "      \n",
       "      \n",
       "      \n",
       "      \n",
       "      \n",
       "      \n",
       "      \n",
       "      \n",
       "    \n",
       "    \n",
       "      \n",
       "      \n",
       "      \n",
       "      \n",
       "      \n",
       "      \n",
       "      \n",
       "      \n",
       "      \n",
       "      \n",
       "      \n",
       "    \n",
       "    \n",
       "      \n",
       "      \n",
       "      \n",
       "      \n",
       "      \n",
       "      \n",
       "      \n",
       "      \n",
       "      \n",
       "      \n",
       "      \n",
       "    \n",
       "    \n",
       "      \n",
       "      \n",
       "      \n",
       "      \n",
       "      \n",
       "      \n",
       "      \n",
       "      \n",
       "      \n",
       "      \n",
       "      \n",
       "    \n",
       "    \n",
       "      \n",
       "      \n",
       "      \n",
       "      \n",
       "      \n",
       "      \n",
       "      \n",
       "      \n",
       "      \n",
       "      \n",
       "      \n",
       "    \n",
       "    \n",
       "      \n",
       "      \n",
       "      \n",
       "      \n",
       "      \n",
       "      \n",
       "      \n",
       "      \n",
       "      \n",
       "      \n",
       "      \n",
       "    \n",
       "    \n",
       "      \n",
       "      \n",
       "      \n",
       "      \n",
       "      \n",
       "      \n",
       "      \n",
       "      \n",
       "      \n",
       "      \n",
       "      \n",
       "    \n",
       "  \n",
       "<table border="\&quot;1\&quot;" class="\&quot;dataframe\&quot;"><thead><tr style="\&quot;text-align:" right;\"=""><th></th><th>reviewerID</th><th>asin</th><th>reviewerName</th><th>helpful</th><th>reviewText</th><th>overall</th><th>summary</th><th>unixReviewTime</th><th>reviewTime</th><th>sentiment</th></tr></thead><tbody><tr><td>703</td><td>A28VCFPVVSFEYB</td><td>1463561520</td><td>Amazon Customer</td><td>[0, 0]</td><td>Vivid characters and descriptions. The author ...</td><td>5</td><td>Great Read</td><td>1393372800</td><td>02 26, 2014</td><td>POSITIVE</td></tr><tr><td>311</td><td>A1WZU6M69O5R8V</td><td>0060774592</td><td>Zhi \"zhi\"</td><td>[0, 0]</td><td>Oh this is an awful bookA delightful awful boo...</td><td>5</td><td>This is a terrible book.  We love it.</td><td>1393977600</td><td>03 5, 2014</td><td>POSITIVE</td></tr><tr><td>722</td><td>A3MISPG4YIPYU1</td><td>1848191162</td><td>Matthew Russell \"Matthew Russell\"</td><td>[4, 4]</td><td>Mitchell has really gifted us with a gem. He p...</td><td>5</td><td>A wonderful collection of equally accessible a...</td><td>1393113600</td><td>02 23, 2014</td><td>POSITIVE</td></tr><tr><td>629</td><td>A127GQTJI4FP6Q</td><td>0671207148</td><td>alwayslearning</td><td>[0, 0]</td><td>Felt like I was floating down the river...Soli...</td><td>4</td><td>Wow</td><td>1388707200</td><td>01 3, 2014</td><td>POSITIVE</td></tr><tr><td>0</td><td>A1E5ZR1Z4OQJG</td><td>1495329321</td><td>Pure Jonel \"Pure Jonel\"</td><td>[0, 0]</td><td>Da Silva takes the divine by storm with this u...</td><td>4</td><td>An amazing first novel</td><td>1396137600</td><td>03 30, 2014</td><td>POSITIVE</td></tr><tr><td>...</td><td>...</td><td>...</td><td>...</td><td>...</td><td>...</td><td>...</td><td>...</td><td>...</td><td>...</td><td>...</td></tr><tr><td>106</td><td>A3V5KBIS9TWUVY</td><td>039916393X</td><td>Tina Says \"Tina Says\"</td><td>[1, 1]</td><td>Tracy Holczer's The Secret Hum of a Daisy is t...</td><td>5</td><td>The Secret Hum of a Daisy: An Absolute Must Read</td><td>1402272000</td><td>06 9, 2014</td><td>POSITIVE</td></tr><tr><td>270</td><td>A2DSNXBJ9B2HAD</td><td>1442365528</td><td>Professor Bob</td><td>[0, 0]</td><td>Red Sparrow is a grim, realistic, violent and ...</td><td>4</td><td>Grim, realistic and suspenseful!</td><td>1402876800</td><td>06 16, 2014</td><td>POSITIVE</td></tr><tr><td>860</td><td>A30DZJBG8ZEGHT</td><td>1844137864</td><td>Tab</td><td>[0, 10]</td><td>This was a gift, but some of the art inside is...</td><td>1</td><td>Don't agree with all of the art.</td><td>1393977600</td><td>03 5, 2014</td><td>NEGATIVE</td></tr><tr><td>435</td><td>A11ZIYONP0ENPG</td><td>1939416019</td><td>Francois Naude</td><td>[1, 2]</td><td>A fast flowing story of heroes and villains. I...</td><td>3</td><td>A quest of heroes</td><td>1391299200</td><td>02 2, 2014</td><td>NEUTRAL</td></tr><tr><td>102</td><td>A2I49R6VXVBU6</td><td>0800718763</td><td>m from mi</td><td>[0, 0]</td><td>Wow, I hardly know what to say about this book...</td><td>5</td><td>Incredible story, exceptionally written!!</td><td>1391731200</td><td>02 7, 2014</td><td>POSITIVE</td></tr></tbody></table>\n",
       "<p>670 rows × 10 columns</p>\n",
       "</div>"
      ],
      "text/plain": [
       "         reviewerID        asin                       reviewerName  helpful  \\\n",
       "703  A28VCFPVVSFEYB  1463561520                    Amazon Customer   [0, 0]   \n",
       "311  A1WZU6M69O5R8V  0060774592                          Zhi \"zhi\"   [0, 0]   \n",
       "722  A3MISPG4YIPYU1  1848191162  Matthew Russell \"Matthew Russell\"   [4, 4]   \n",
       "629  A127GQTJI4FP6Q  0671207148                     alwayslearning   [0, 0]   \n",
       "0     A1E5ZR1Z4OQJG  1495329321            Pure Jonel \"Pure Jonel\"   [0, 0]   \n",
       "..              ...         ...                                ...      ...   \n",
       "106  A3V5KBIS9TWUVY  039916393X              Tina Says \"Tina Says\"   [1, 1]   \n",
       "270  A2DSNXBJ9B2HAD  1442365528                      Professor Bob   [0, 0]   \n",
       "860  A30DZJBG8ZEGHT  1844137864                                Tab  [0, 10]   \n",
       "435  A11ZIYONP0ENPG  1939416019                     Francois Naude   [1, 2]   \n",
       "102   A2I49R6VXVBU6  0800718763                          m from mi   [0, 0]   \n",
       "\n",
       "                                            reviewText  overall  \\\n",
       "703  Vivid characters and descriptions. The author ...        5   \n",
       "311  Oh this is an awful bookA delightful awful boo...        5   \n",
       "722  Mitchell has really gifted us with a gem. He p...        5   \n",
       "629  Felt like I was floating down the river...Soli...        4   \n",
       "0    Da Silva takes the divine by storm with this u...        4   \n",
       "..                                                 ...      ...   \n",
       "106  Tracy Holczer's The Secret Hum of a Daisy is t...        5   \n",
       "270  Red Sparrow is a grim, realistic, violent and ...        4   \n",
       "860  This was a gift, but some of the art inside is...        1   \n",
       "435  A fast flowing story of heroes and villains. I...        3   \n",
       "102  Wow, I hardly know what to say about this book...        5   \n",
       "\n",
       "                                               summary  unixReviewTime  \\\n",
       "703                                         Great Read      1393372800   \n",
       "311              This is a terrible book.  We love it.      1393977600   \n",
       "722  A wonderful collection of equally accessible a...      1393113600   \n",
       "629                                                Wow      1388707200   \n",
       "0                               An amazing first novel      1396137600   \n",
       "..                                                 ...             ...   \n",
       "106   The Secret Hum of a Daisy: An Absolute Must Read      1402272000   \n",
       "270                   Grim, realistic and suspenseful!      1402876800   \n",
       "860                   Don't agree with all of the art.      1393977600   \n",
       "435                                  A quest of heroes      1391299200   \n",
       "102          Incredible story, exceptionally written!!      1391731200   \n",
       "\n",
       "      reviewTime sentiment  \n",
       "703  02 26, 2014  POSITIVE  \n",
       "311   03 5, 2014  POSITIVE  \n",
       "722  02 23, 2014  POSITIVE  \n",
       "629   01 3, 2014  POSITIVE  \n",
       "0    03 30, 2014  POSITIVE  \n",
       "..           ...       ...  \n",
       "106   06 9, 2014  POSITIVE  \n",
       "270  06 16, 2014  POSITIVE  \n",
       "860   03 5, 2014  NEGATIVE  \n",
       "435   02 2, 2014   NEUTRAL  \n",
       "102   02 7, 2014  POSITIVE  \n",
       "\n",
       "[670 rows x 10 columns]"
      ]
     },
     "execution_count": 2,
     "metadata": {},
     "output_type": "execute_result"
    }
   ],
   "source": [
    "from sklearn.model_selection import train_test_split\n",
    "training, test = train_test_split(df, test_size = 0.33, random_state=42)\n",
    "training"
   ]
  },
  {
   "cell_type": "markdown",
   "metadata": {},
   "source": [
    "# vectorize text using bag of words"
   ]
  },
  {
   "cell_type": "code",
   "execution_count": 3,
   "metadata": {},
   "outputs": [
    {
     "data": {
      "text/plain": [
       "&lt;330x7372 sparse matrix of type '<class 'numpy.int64'="">'\n",
       "\twith 18336 stored elements in Compressed Sparse Row format&gt;"
      ]
     },
     "execution_count": 3,
     "metadata": {},
     "output_type": "execute_result"
    }
   ],
   "source": [
    "from sklearn.feature_extraction.text import CountVectorizer\n",
    "vectorizer = CountVectorizer()\n",
    "trainingText = vectorizer.fit_transform(training.reviewText)\n",
    "testText = vectorizer.transform(test.reviewText)\n",
    "testText"
   ]
  },
  {
   "cell_type": "markdown",
   "metadata": {},
   "source": [
    "# classify text"
   ]
  },
  {
   "cell_type": "markdown",
   "metadata": {},
   "source": [
    "### linear SVM"
   ]
  },
  {
   "cell_type": "code",
   "execution_count": 4,
   "metadata": {},
   "outputs": [
    {
     "data": {
      "text/plain": [
       "SVC(C=1.0, cache_size=200, class_weight=None, coef0=0.0,\n",
       "    decision_function_shape='ovr', degree=3, gamma='auto_deprecated',\n",
       "    kernel='linear', max_iter=-1, probability=False, random_state=None,\n",
       "    shrinking=True, tol=0.001, verbose=False)"
      ]
     },
     "execution_count": 4,
     "metadata": {},
     "output_type": "execute_result"
    }
   ],
   "source": [
    "from sklearn.svm import SVC\n",
    "clf_svm = SVC(kernel='linear')\n",
    "clf_svm.fit(trainingText, training.sentiment)"
   ]
  },
  {
   "cell_type": "markdown",
   "metadata": {},
   "source": [
    "#### predict some text"
   ]
  },
  {
   "cell_type": "code",
   "execution_count": 5,
   "metadata": {},
   "outputs": [
    {
     "data": {
      "text/plain": [
       "array(['POSITIVE', 'POSITIVE', 'POSITIVE'], dtype=object)"
      ]
     },
     "execution_count": 5,
     "metadata": {},
     "output_type": "execute_result"
    }
   ],
   "source": [
    "badReview = ['This stuff is awful! Do not buy! Awful!', 'I hate it', 'What a waste of money']\n",
    "badReviewText = vectorizer.transform(badReview)\n",
    "clf_svm.predict(badReviewText)"
   ]
  },
  {
   "cell_type": "markdown",
   "metadata": {},
   "source": [
    "#### decision tree"
   ]
  },
  {
   "cell_type": "code",
   "execution_count": 6,
   "metadata": {},
   "outputs": [
    {
     "data": {
      "text/plain": [
       "DecisionTreeClassifier(class_weight=None, criterion='gini', max_depth=None,\n",
       "                       max_features=None, max_leaf_nodes=None,\n",
       "                       min_impurity_decrease=0.0, min_impurity_split=None,\n",
       "                       min_samples_leaf=1, min_samples_split=2,\n",
       "                       min_weight_fraction_leaf=0.0, presort=False,\n",
       "                       random_state=None, splitter='best')"
      ]
     },
     "execution_count": 6,
     "metadata": {},
     "output_type": "execute_result"
    }
   ],
   "source": [
    "from sklearn.tree import DecisionTreeClassifier\n",
    "clf_dectree = DecisionTreeClassifier()\n",
    "clf_dectree.fit(trainingText, training.sentiment)"
   ]
  },
  {
   "cell_type": "markdown",
   "metadata": {},
   "source": [
    "#### predict from dec tree"
   ]
  },
  {
   "cell_type": "code",
   "execution_count": 7,
   "metadata": {},
   "outputs": [
    {
     "data": {
      "text/plain": [
       "array(['POSITIVE', 'POSITIVE', 'NEGATIVE'], dtype=object)"
      ]
     },
     "execution_count": 7,
     "metadata": {},
     "output_type": "execute_result"
    }
   ],
   "source": [
    "clf_dectree.predict(badReviewText)"
   ]
  },
  {
   "cell_type": "markdown",
   "metadata": {},
   "source": [
    "#### naive Bayes"
   ]
  },
  {
   "cell_type": "code",
   "execution_count": 8,
   "metadata": {},
   "outputs": [
    {
     "data": {
      "text/plain": [
       "GaussianNB(priors=None, var_smoothing=1e-09)"
      ]
     },
     "execution_count": 8,
     "metadata": {},
     "output_type": "execute_result"
    }
   ],
   "source": [
    "from sklearn.naive_bayes import GaussianNB\n",
    "clf_nb = GaussianNB()\n",
    "clf_nb.fit(trainingText.toarray(), training.sentiment)"
   ]
  },
  {
   "cell_type": "markdown",
   "metadata": {},
   "source": [
    "#### predict from nb"
   ]
  },
  {
   "cell_type": "code",
   "execution_count": 9,
   "metadata": {},
   "outputs": [
    {
     "data": {
      "text/plain": [
       "array(['POSITIVE', 'NEUTRAL', 'NEGATIVE'], dtype='<u8')" ]="" },="" "execution_count":="" 9,="" "metadata":="" {},="" "output_type":="" "execute_result"="" }="" ],="" "source":="" [="" "clf_nb.predict(badreviewtext.toarray())"="" {="" "cell_type":="" "markdown",="" "####="" logistic="" regression"="" "code",="" 10,="" "outputs":="" "data":="" "text="" plain":="" "logisticregression(c="1.0," class_weight="None," dual="False," fit_intercept="True,\n&quot;," "="" intercept_scaling="1," l1_ratio="None," max_iter="1000,\n&quot;," multi_class="auto" ,="" n_jobs="None," penalty="l2" ,\n",="" random_state="None," solver="lbfgs" tol="0.0001," verbose="0,\n&quot;," warm_start="False)&quot;" "from="" sklearn.linear_model="" import="" logisticregression\n",="" "clf_lr="LogisticRegression(solver=&#39;lbfgs&#39;," "clf_lr.fit(trainingtext,="" training.sentiment)"="" predict="" from="" lr"="" 11,="" "array(['positive',="" 'positive',="" 'positive'],="" dtype="object)&quot;" "clf_lr.predict(badreviewtext)"="" "#="" evaluation"="" 12,="" "name":="" "stdout",="" "stream",="" "text":="" "svm="" score:="" 0.8242424242424242\n",="" "dec="" tree="" 0.7393939393939394\n",="" "nb="" 0.8121212121212121\n",="" "lr="" 0.8303030303030303\n"="" "print('svm="" score:',="" clf_svm.score(testtext,="" test.sentiment))\n",="" "print('dec="" clf_dectree.score(testtext,="" "print('nb="" clf_nb.score(testtext.toarray(),="" "print('lr="" clf_lr.score(testtext,="" test.sentiment))"="" 13,="" "svm:="" [0.91319444="" 0.21052632="" 0.22222222]\n",="" "dt:="" [0.86021505="" 0.11940299="" 0.="" ]\n",="" "nb:="" [0.89678511="" 0.08510638="" 0.09090909]\n",="" "lr:="" [0.91370558="" 0.12244898="" 0.1="" ]\n"="" sklearn.metrics="" f1_score\n",="" "print="" ('svm:',="" f1_score(test.sentiment,="" clf_svm.predict(testtext),="" average="None," labels="[&#39;POSITIVE&#39;," 'neutral',="" 'negative']))\n",="" ('dt:',="" clf_dectree.predict(testtext),="" ('nb:',="" clf_nb.predict(testtext.toarray()),="" ('lr:',="" clf_lr.predict(testtext),="" 'negative']))"="" balance="" number="" of="" positive="" and="" negative="" reviews"="" 14,="" html":="" "<div="">\n",
       "<style scoped="">\n",
       "    .dataframe tbody tr th:only-of-type {\n",
       "        vertical-align: middle;\n",
       "    }\n",
       "\n",
       "    .dataframe tbody tr th {\n",
       "        vertical-align: top;\n",
       "    }\n",
       "\n",
       "    .dataframe thead th {\n",
       "        text-align: right;\n",
       "    }\n",
       "</style>\n",
       "\n",
       "  \n",
       "    \n",
       "      \n",
       "      \n",
       "      \n",
       "      \n",
       "      \n",
       "      \n",
       "      \n",
       "      \n",
       "      \n",
       "      \n",
       "      \n",
       "    \n",
       "  \n",
       "  \n",
       "    \n",
       "      \n",
       "      \n",
       "      \n",
       "      \n",
       "      \n",
       "      \n",
       "      \n",
       "      \n",
       "      \n",
       "      \n",
       "      \n",
       "    \n",
       "    \n",
       "      \n",
       "      \n",
       "      \n",
       "      \n",
       "      \n",
       "      \n",
       "      \n",
       "      \n",
       "      \n",
       "      \n",
       "      \n",
       "    \n",
       "    \n",
       "      \n",
       "      \n",
       "      \n",
       "      \n",
       "      \n",
       "      \n",
       "      \n",
       "      \n",
       "      \n",
       "      \n",
       "      \n",
       "    \n",
       "    \n",
       "      \n",
       "      \n",
       "      \n",
       "      \n",
       "      \n",
       "      \n",
       "      \n",
       "      \n",
       "      \n",
       "      \n",
       "      \n",
       "    \n",
       "    \n",
       "      \n",
       "      \n",
       "      \n",
       "      \n",
       "      \n",
       "      \n",
       "      \n",
       "      \n",
       "      \n",
       "      \n",
       "      \n",
       "    \n",
       "    \n",
       "      \n",
       "      \n",
       "      \n",
       "      \n",
       "      \n",
       "      \n",
       "      \n",
       "      \n",
       "      \n",
       "      \n",
       "      \n",
       "    \n",
       "    \n",
       "      \n",
       "      \n",
       "      \n",
       "      \n",
       "      \n",
       "      \n",
       "      \n",
       "      \n",
       "      \n",
       "      \n",
       "      \n",
       "    \n",
       "    \n",
       "      \n",
       "      \n",
       "      \n",
       "      \n",
       "      \n",
       "      \n",
       "      \n",
       "      \n",
       "      \n",
       "      \n",
       "      \n",
       "    \n",
       "    \n",
       "      \n",
       "      \n",
       "      \n",
       "      \n",
       "      \n",
       "      \n",
       "      \n",
       "      \n",
       "      \n",
       "      \n",
       "      \n",
       "    \n",
       "    \n",
       "      \n",
       "      \n",
       "      \n",
       "      \n",
       "      \n",
       "      \n",
       "      \n",
       "      \n",
       "      \n",
       "      \n",
       "      \n",
       "    \n",
       "    \n",
       "      \n",
       "      \n",
       "      \n",
       "      \n",
       "      \n",
       "      \n",
       "      \n",
       "      \n",
       "      \n",
       "      \n",
       "      \n",
       "    \n",
       "  \n",
       "<table border="\&quot;1\&quot;" class="\&quot;dataframe\&quot;"><thead><tr style="\&quot;text-align:" right;\"=""><th></th><th>reviewerID</th><th>asin</th><th>reviewerName</th><th>helpful</th><th>reviewText</th><th>overall</th><th>summary</th><th>unixReviewTime</th><th>reviewTime</th><th>sentiment</th></tr></thead><tbody><tr><td>471</td><td>A3N9LU1Y0FWOGU</td><td>B00IYYK2JS</td><td>Read4ever \"G\"</td><td>[0, 0]</td><td>I've only read a few pages so far, so I can't ...</td><td>2</td><td>Truthfully</td><td>1395100800</td><td>03 18, 2014</td><td>NEGATIVE</td></tr><tr><td>468</td><td>A1WVO00PIPF8RA</td><td>0385536518</td><td>Maggot Lady</td><td>[1, 2]</td><td>Seriously... I do not know why I even read it....</td><td>2</td><td>Dexter Downhill</td><td>1388966400</td><td>01 6, 2014</td><td>NEGATIVE</td></tr><tr><td>55</td><td>A1098Z3D7ENJ2F</td><td>B00GVQOJZ4</td><td>veronica mostel</td><td>[0, 0]</td><td>WOW.  THESE BOOKS ARE GREAT.  CANNOT WAIT FOR ...</td><td>5</td><td>LOVED IT</td><td>1398038400</td><td>04 21, 2014</td><td>POSITIVE</td></tr><tr><td>28</td><td>A3F1T8R9CVNPSN</td><td>0316098329</td><td>Eileen M Brisbane</td><td>[0, 0]</td><td>What a beautifully written book from a child's...</td><td>5</td><td>Sad yet moving</td><td>1400112000</td><td>05 15, 2014</td><td>POSITIVE</td></tr><tr><td>7</td><td>ATT15IFF1UBAQ</td><td>0060781939</td><td>A. Nuhanovic \"AlNuhano\"</td><td>[0, 0]</td><td>It was good....there is a lot going on with mu...</td><td>4</td><td>Very fast paced</td><td>1397606400</td><td>04 16, 2014</td><td>POSITIVE</td></tr><tr><td>...</td><td>...</td><td>...</td><td>...</td><td>...</td><td>...</td><td>...</td><td>...</td><td>...</td><td>...</td><td>...</td></tr><tr><td>555</td><td>ANJ8YJQP5GRRF</td><td>0528853392</td><td>Lisa H.</td><td>[0, 1]</td><td>Got rid of this obsolete crap as soon as the c...</td><td>1</td><td>Who knows?</td><td>1398470400</td><td>04 26, 2014</td><td>NEGATIVE</td></tr><tr><td>283</td><td>A1JMXGA0C0LR2C</td><td>0800734297</td><td>Ronnilu</td><td>[0, 0]</td><td>As a Christian, I enjoy a well-written, exciti...</td><td>3</td><td>So-So</td><td>1391385600</td><td>02 3, 2014</td><td>NEUTRAL</td></tr><tr><td>313</td><td>A3GBNOO6OAY0B1</td><td>1628548614</td><td>Gina M.</td><td>[1, 1]</td><td>Definitely a man&amp;#8217;s book.  A narrative of...</td><td>3</td><td>A quick Read</td><td>1394064000</td><td>03 6, 2014</td><td>NEUTRAL</td></tr><tr><td>13</td><td>AL3Y69LODZTP8</td><td>0449908585</td><td>Dropletform \"Drop\"</td><td>[0, 0]</td><td>I liked the interwoven personal drama, set off...</td><td>4</td><td>More good stuff from Theroux</td><td>1397606400</td><td>04 16, 2014</td><td>POSITIVE</td></tr><tr><td>615</td><td>A2PW3LUBBOEG05</td><td>1940014018</td><td>MoonlightReader</td><td>[0, 0]</td><td>Princess Ashling is excited to see her father,...</td><td>3</td><td>It's definitely unique compared to other werew...</td><td>1389744000</td><td>01 15, 2014</td><td>NEUTRAL</td></tr></tbody></table>\n",
       "<p>186 rows × 10 columns</p>\n",
       ""
      ],
      "text/plain": [
       "         reviewerID        asin             reviewerName helpful  \\\n",
       "471  A3N9LU1Y0FWOGU  B00IYYK2JS            Read4ever \"G\"  [0, 0]   \n",
       "468  A1WVO00PIPF8RA  0385536518              Maggot Lady  [1, 2]   \n",
       "55   A1098Z3D7ENJ2F  B00GVQOJZ4          veronica mostel  [0, 0]   \n",
       "28   A3F1T8R9CVNPSN  0316098329        Eileen M Brisbane  [0, 0]   \n",
       "7     ATT15IFF1UBAQ  0060781939  A. Nuhanovic \"AlNuhano\"  [0, 0]   \n",
       "..              ...         ...                      ...     ...   \n",
       "555   ANJ8YJQP5GRRF  0528853392                  Lisa H.  [0, 1]   \n",
       "283  A1JMXGA0C0LR2C  0800734297                  Ronnilu  [0, 0]   \n",
       "313  A3GBNOO6OAY0B1  1628548614                  Gina M.  [1, 1]   \n",
       "13    AL3Y69LODZTP8  0449908585       Dropletform \"Drop\"  [0, 0]   \n",
       "615  A2PW3LUBBOEG05  1940014018          MoonlightReader  [0, 0]   \n",
       "\n",
       "                                            reviewText  overall  \\\n",
       "471  I've only read a few pages so far, so I can't ...        2   \n",
       "468  Seriously... I do not know why I even read it....        2   \n",
       "55   WOW.  THESE BOOKS ARE GREAT.  CANNOT WAIT FOR ...        5   \n",
       "28   What a beautifully written book from a child's...        5   \n",
       "7    It was good....there is a lot going on with mu...        4   \n",
       "..                                                 ...      ...   \n",
       "555  Got rid of this obsolete crap as soon as the c...        1   \n",
       "283  As a Christian, I enjoy a well-written, exciti...        3   \n",
       "313  Definitely a man’s book.  A narrative of...        3   \n",
       "13   I liked the interwoven personal drama, set off...        4   \n",
       "615  Princess Ashling is excited to see her father,...        3   \n",
       "\n",
       "                                               summary  unixReviewTime  \\\n",
       "471                                         Truthfully      1395100800   \n",
       "468                                    Dexter Downhill      1388966400   \n",
       "55                                            LOVED IT      1398038400   \n",
       "28                                      Sad yet moving      1400112000   \n",
       "7                                      Very fast paced      1397606400   \n",
       "..                                                 ...             ...   \n",
       "555                                         Who knows?      1398470400   \n",
       "283                                              So-So      1391385600   \n",
       "313                                       A quick Read      1394064000   \n",
       "13                        More good stuff from Theroux      1397606400   \n",
       "615  It's definitely unique compared to other werew...      1389744000   \n",
       "\n",
       "      reviewTime sentiment  \n",
       "471  03 18, 2014  NEGATIVE  \n",
       "468   01 6, 2014  NEGATIVE  \n",
       "55   04 21, 2014  POSITIVE  \n",
       "28   05 15, 2014  POSITIVE  \n",
       "7    04 16, 2014  POSITIVE  \n",
       "..           ...       ...  \n",
       "555  04 26, 2014  NEGATIVE  \n",
       "283   02 3, 2014   NEUTRAL  \n",
       "313   03 6, 2014   NEUTRAL  \n",
       "13   04 16, 2014  POSITIVE  \n",
       "615  01 15, 2014   NEUTRAL  \n",
       "\n",
       "[186 rows x 10 columns]"
      ]
     },
     "execution_count": 14,
     "metadata": {},
     "output_type": "execute_result"
    }
   ],
   "source": [
    "negative = df[(df.sentiment == 'NEGATIVE')]\n",
    "#print (negative)\n",
    "positive = df[(df.sentiment == 'POSITIVE')][:len(negative)]\n",
    "#print (positive)\n",
    "neutral = df[(df.sentiment == 'NEUTRAL')][:len(negative)]\n",
    "balanced = pd.concat([negative, positive, neutral])\n",
    "#print (balanced)\n",
    "import sklearn.utils\n",
    "balanced = sklearn.utils.shuffle(balanced)\n",
    "balanced"
   ]
  },
  {
   "cell_type": "markdown",
   "metadata": {},
   "source": [
    "# make a bag of words for balanced dataframe"
   ]
  },
  {
   "cell_type": "code",
   "execution_count": 15,
   "metadata": {},
   "outputs": [],
   "source": [
    "balancedText = vectorizer.fit_transform(balanced.reviewText)\n",
    "badReviewText = vectorizer.transform(badReview)"
   ]
  },
  {
   "cell_type": "markdown",
   "metadata": {},
   "source": [
    "# classify balanced data"
   ]
  },
  {
   "cell_type": "code",
   "execution_count": 21,
   "metadata": {},
   "outputs": [
    {
     "data": {
      "text/plain": [
       "SVC(C=1.0, cache_size=200, class_weight=None, coef0=0.0,\n",
       "    decision_function_shape='ovr', degree=3, gamma='auto_deprecated',\n",
       "    kernel='linear', max_iter=-1, probability=False, random_state=None,\n",
       "    shrinking=True, tol=0.001, verbose=False)"
      ]
     },
     "execution_count": 21,
     "metadata": {},
     "output_type": "execute_result"
    }
   ],
   "source": [
    "clf_svm.fit(balancedText, balanced.sentiment)"
   ]
  },
  {
   "cell_type": "code",
   "execution_count": 22,
   "metadata": {},
   "outputs": [
    {
     "data": {
      "text/plain": [
       "array(['NEGATIVE', 'NEGATIVE', 'NEGATIVE'], dtype=object)"
      ]
     },
     "execution_count": 22,
     "metadata": {},
     "output_type": "execute_result"
    }
   ],
   "source": [
    "clf_svm.predict(badReviewText)"
   ]
  },
  {
   "cell_type": "markdown",
   "metadata": {},
   "source": [
    "# OMG! now try with decision tree!"
   ]
  },
  {
   "cell_type": "code",
   "execution_count": 23,
   "metadata": {},
   "outputs": [
    {
     "data": {
      "text/plain": [
       "DecisionTreeClassifier(class_weight=None, criterion='gini', max_depth=None,\n",
       "                       max_features=None, max_leaf_nodes=None,\n",
       "                       min_impurity_decrease=0.0, min_impurity_split=None,\n",
       "                       min_samples_leaf=1, min_samples_split=2,\n",
       "                       min_weight_fraction_leaf=0.0, presort=False,\n",
       "                       random_state=None, splitter='best')"
      ]
     },
     "execution_count": 23,
     "metadata": {},
     "output_type": "execute_result"
    }
   ],
   "source": [
    "clf_dectree.fit(balancedText, balanced.sentiment)"
   ]
  },
  {
   "cell_type": "code",
   "execution_count": 25,
   "metadata": {},
   "outputs": [
    {
     "data": {
      "text/plain": [
       "array(['NEGATIVE', 'NEGATIVE', 'NEGATIVE'], dtype=object)"
      ]
     },
     "execution_count": 25,
     "metadata": {},
     "output_type": "execute_result"
    }
   ],
   "source": [
    "clf_dectree.predict(badReviewText)"
   ]
  },
  {
   "cell_type": "markdown",
   "metadata": {},
   "source": [
    "# Wow - now with naive bayes"
   ]
  },
  {
   "cell_type": "code",
   "execution_count": 28,
   "metadata": {},
   "outputs": [
    {
     "data": {
      "text/plain": [
       "GaussianNB(priors=None, var_smoothing=1e-09)"
      ]
     },
     "execution_count": 28,
     "metadata": {},
     "output_type": "execute_result"
    }
   ],
   "source": [
    "clf_nb.fit(balancedText.toarray(), balanced.sentiment)"
   ]
  },
  {
   "cell_type": "code",
   "execution_count": 31,
   "metadata": {},
   "outputs": [
    {
     "data": {
      "text/plain": [
       "array(['NEGATIVE', 'NEUTRAL', 'NEGATIVE'], dtype='</u8')"></class></body></html>